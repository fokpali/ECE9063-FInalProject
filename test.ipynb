{
 "cells": [
  {
   "cell_type": "code",
   "execution_count": 28,
   "metadata": {},
   "outputs": [
    {
     "ename": "XGBoostError",
     "evalue": "\nXGBoost Library (libxgboost.dylib) could not be loaded.\nLikely causes:\n  * OpenMP runtime is not installed\n    - vcomp140.dll or libgomp-1.dll for Windows\n    - libomp.dylib for Mac OSX\n    - libgomp.so for Linux and other UNIX-like OSes\n    Mac OSX users: Run `brew install libomp` to install OpenMP runtime.\n\n  * You are running 32-bit Python on a 64-bit OS\n\nError message(s): [\"dlopen(/Library/Frameworks/Python.framework/Versions/3.10/lib/python3.10/site-packages/xgboost/lib/libxgboost.dylib, 0x0006): Library not loaded: @rpath/libomp.dylib\\n  Referenced from: <F2F42313-BF4F-3B95-A853-AE1DE94D4C87> /Library/Frameworks/Python.framework/Versions/3.10/lib/python3.10/site-packages/xgboost/lib/libxgboost.dylib\\n  Reason: tried: '/opt/homebrew/opt/libomp/lib/libomp.dylib' (no such file), '/System/Volumes/Preboot/Cryptexes/OS/opt/homebrew/opt/libomp/lib/libomp.dylib' (no such file), '/opt/homebrew/opt/libomp/lib/libomp.dylib' (no such file), '/System/Volumes/Preboot/Cryptexes/OS/opt/homebrew/opt/libomp/lib/libomp.dylib' (no such file), '/System/Volumes/Preboot/Cryptexes/OS@rpath/libomp.dylib' (no such file), '/opt/homebrew/opt/libomp/lib/libomp.dylib' (no such file), '/System/Volumes/Preboot/Cryptexes/OS/opt/homebrew/opt/libomp/lib/libomp.dylib' (no such file), '/opt/homebrew/opt/libomp/lib/libomp.dylib' (no such file), '/System/Volumes/Preboot/Cryptexes/OS/opt/homebrew/opt/libomp/lib/libomp.dylib' (no such file)\"]\n",
     "output_type": "error",
     "traceback": [
      "\u001b[0;31m---------------------------------------------------------------------------\u001b[0m",
      "\u001b[0;31mXGBoostError\u001b[0m                              Traceback (most recent call last)",
      "Cell \u001b[0;32mIn[28], line 15\u001b[0m\n\u001b[1;32m     13\u001b[0m \u001b[38;5;28;01mfrom\u001b[39;00m \u001b[38;5;21;01msklearn\u001b[39;00m\u001b[38;5;21;01m.\u001b[39;00m\u001b[38;5;21;01mpreprocessing\u001b[39;00m \u001b[38;5;28;01mimport\u001b[39;00m OneHotEncoder\n\u001b[1;32m     14\u001b[0m \u001b[38;5;28;01mfrom\u001b[39;00m \u001b[38;5;21;01msklearn\u001b[39;00m\u001b[38;5;21;01m.\u001b[39;00m\u001b[38;5;21;01mmodel_selection\u001b[39;00m \u001b[38;5;28;01mimport\u001b[39;00m cross_val_score\n\u001b[0;32m---> 15\u001b[0m \u001b[38;5;28;01mimport\u001b[39;00m \u001b[38;5;21;01mxgboost\u001b[39;00m \u001b[38;5;28;01mas\u001b[39;00m \u001b[38;5;21;01mxgb\u001b[39;00m\n\u001b[1;32m     17\u001b[0m \u001b[38;5;28;01mfrom\u001b[39;00m \u001b[38;5;21;01mtensorflow\u001b[39;00m\u001b[38;5;21;01m.\u001b[39;00m\u001b[38;5;21;01mkeras\u001b[39;00m\u001b[38;5;21;01m.\u001b[39;00m\u001b[38;5;21;01mmodels\u001b[39;00m \u001b[38;5;28;01mimport\u001b[39;00m Sequential\n\u001b[1;32m     18\u001b[0m \u001b[38;5;28;01mfrom\u001b[39;00m \u001b[38;5;21;01mtensorflow\u001b[39;00m\u001b[38;5;21;01m.\u001b[39;00m\u001b[38;5;21;01mkeras\u001b[39;00m\u001b[38;5;21;01m.\u001b[39;00m\u001b[38;5;21;01mlayers\u001b[39;00m \u001b[38;5;28;01mimport\u001b[39;00m Dense, Dropout\n",
      "File \u001b[0;32m/Library/Frameworks/Python.framework/Versions/3.10/lib/python3.10/site-packages/xgboost/__init__.py:6\u001b[0m\n\u001b[1;32m      1\u001b[0m \u001b[38;5;124;03m\"\"\"XGBoost: eXtreme Gradient Boosting library.\u001b[39;00m\n\u001b[1;32m      2\u001b[0m \n\u001b[1;32m      3\u001b[0m \u001b[38;5;124;03mContributors: https://github.com/dmlc/xgboost/blob/master/CONTRIBUTORS.md\u001b[39;00m\n\u001b[1;32m      4\u001b[0m \u001b[38;5;124;03m\"\"\"\u001b[39;00m\n\u001b[0;32m----> 6\u001b[0m \u001b[38;5;28;01mfrom\u001b[39;00m \u001b[38;5;21;01m.\u001b[39;00m \u001b[38;5;28;01mimport\u001b[39;00m tracker  \u001b[38;5;66;03m# noqa\u001b[39;00m\n\u001b[1;32m      7\u001b[0m \u001b[38;5;28;01mfrom\u001b[39;00m \u001b[38;5;21;01m.\u001b[39;00m \u001b[38;5;28;01mimport\u001b[39;00m collective, dask\n\u001b[1;32m      8\u001b[0m \u001b[38;5;28;01mfrom\u001b[39;00m \u001b[38;5;21;01m.\u001b[39;00m\u001b[38;5;21;01mcore\u001b[39;00m \u001b[38;5;28;01mimport\u001b[39;00m (\n\u001b[1;32m      9\u001b[0m     Booster,\n\u001b[1;32m     10\u001b[0m     DataIter,\n\u001b[0;32m   (...)\u001b[0m\n\u001b[1;32m     15\u001b[0m     build_info,\n\u001b[1;32m     16\u001b[0m )\n",
      "File \u001b[0;32m/Library/Frameworks/Python.framework/Versions/3.10/lib/python3.10/site-packages/xgboost/tracker.py:9\u001b[0m\n\u001b[1;32m      6\u001b[0m \u001b[38;5;28;01mfrom\u001b[39;00m \u001b[38;5;21;01menum\u001b[39;00m \u001b[38;5;28;01mimport\u001b[39;00m IntEnum, unique\n\u001b[1;32m      7\u001b[0m \u001b[38;5;28;01mfrom\u001b[39;00m \u001b[38;5;21;01mtyping\u001b[39;00m \u001b[38;5;28;01mimport\u001b[39;00m Dict, Optional, Union\n\u001b[0;32m----> 9\u001b[0m \u001b[38;5;28;01mfrom\u001b[39;00m \u001b[38;5;21;01m.\u001b[39;00m\u001b[38;5;21;01mcore\u001b[39;00m \u001b[38;5;28;01mimport\u001b[39;00m _LIB, _check_call, make_jcargs\n\u001b[1;32m     12\u001b[0m \u001b[38;5;28;01mdef\u001b[39;00m \u001b[38;5;21mget_family\u001b[39m(addr: \u001b[38;5;28mstr\u001b[39m) \u001b[38;5;241m-\u001b[39m\u001b[38;5;241m>\u001b[39m \u001b[38;5;28mint\u001b[39m:\n\u001b[1;32m     13\u001b[0m \u001b[38;5;250m    \u001b[39m\u001b[38;5;124;03m\"\"\"Get network family from address.\"\"\"\u001b[39;00m\n",
      "File \u001b[0;32m/Library/Frameworks/Python.framework/Versions/3.10/lib/python3.10/site-packages/xgboost/core.py:269\u001b[0m\n\u001b[1;32m    265\u001b[0m     \u001b[38;5;28;01mreturn\u001b[39;00m lib\n\u001b[1;32m    268\u001b[0m \u001b[38;5;66;03m# load the XGBoost library globally\u001b[39;00m\n\u001b[0;32m--> 269\u001b[0m _LIB \u001b[38;5;241m=\u001b[39m \u001b[43m_load_lib\u001b[49m\u001b[43m(\u001b[49m\u001b[43m)\u001b[49m\n\u001b[1;32m    272\u001b[0m \u001b[38;5;28;01mdef\u001b[39;00m \u001b[38;5;21m_check_call\u001b[39m(ret: \u001b[38;5;28mint\u001b[39m) \u001b[38;5;241m-\u001b[39m\u001b[38;5;241m>\u001b[39m \u001b[38;5;28;01mNone\u001b[39;00m:\n\u001b[1;32m    273\u001b[0m \u001b[38;5;250m    \u001b[39m\u001b[38;5;124;03m\"\"\"Check the return value of C API call\u001b[39;00m\n\u001b[1;32m    274\u001b[0m \n\u001b[1;32m    275\u001b[0m \u001b[38;5;124;03m    This function will raise exception when error occurs.\u001b[39;00m\n\u001b[0;32m   (...)\u001b[0m\n\u001b[1;32m    281\u001b[0m \u001b[38;5;124;03m        return value from API calls\u001b[39;00m\n\u001b[1;32m    282\u001b[0m \u001b[38;5;124;03m    \"\"\"\u001b[39;00m\n",
      "File \u001b[0;32m/Library/Frameworks/Python.framework/Versions/3.10/lib/python3.10/site-packages/xgboost/core.py:222\u001b[0m, in \u001b[0;36m_load_lib\u001b[0;34m()\u001b[0m\n\u001b[1;32m    220\u001b[0m     \u001b[38;5;28;01mif\u001b[39;00m \u001b[38;5;129;01mnot\u001b[39;00m lib_success:\n\u001b[1;32m    221\u001b[0m         libname \u001b[38;5;241m=\u001b[39m os\u001b[38;5;241m.\u001b[39mpath\u001b[38;5;241m.\u001b[39mbasename(lib_paths[\u001b[38;5;241m0\u001b[39m])\n\u001b[0;32m--> 222\u001b[0m         \u001b[38;5;28;01mraise\u001b[39;00m XGBoostError(\n\u001b[1;32m    223\u001b[0m             \u001b[38;5;124mf\u001b[39m\u001b[38;5;124m\"\"\"\u001b[39m\n\u001b[1;32m    224\u001b[0m \u001b[38;5;124mXGBoost Library (\u001b[39m\u001b[38;5;132;01m{\u001b[39;00mlibname\u001b[38;5;132;01m}\u001b[39;00m\u001b[38;5;124m) could not be loaded.\u001b[39m\n\u001b[1;32m    225\u001b[0m \u001b[38;5;124mLikely causes:\u001b[39m\n\u001b[1;32m    226\u001b[0m \u001b[38;5;124m  * OpenMP runtime is not installed\u001b[39m\n\u001b[1;32m    227\u001b[0m \u001b[38;5;124m    - vcomp140.dll or libgomp-1.dll for Windows\u001b[39m\n\u001b[1;32m    228\u001b[0m \u001b[38;5;124m    - libomp.dylib for Mac OSX\u001b[39m\n\u001b[1;32m    229\u001b[0m \u001b[38;5;124m    - libgomp.so for Linux and other UNIX-like OSes\u001b[39m\n\u001b[1;32m    230\u001b[0m \u001b[38;5;124m    Mac OSX users: Run `brew install libomp` to install OpenMP runtime.\u001b[39m\n\u001b[1;32m    231\u001b[0m \n\u001b[1;32m    232\u001b[0m \u001b[38;5;124m  * You are running 32-bit Python on a 64-bit OS\u001b[39m\n\u001b[1;32m    233\u001b[0m \n\u001b[1;32m    234\u001b[0m \u001b[38;5;124mError message(s): \u001b[39m\u001b[38;5;132;01m{\u001b[39;00mos_error_list\u001b[38;5;132;01m}\u001b[39;00m\n\u001b[1;32m    235\u001b[0m \u001b[38;5;124m\"\"\"\u001b[39m\n\u001b[1;32m    236\u001b[0m         )\n\u001b[1;32m    237\u001b[0m     _register_log_callback(lib)\n\u001b[1;32m    239\u001b[0m     \u001b[38;5;28;01mdef\u001b[39;00m \u001b[38;5;21mparse\u001b[39m(ver: \u001b[38;5;28mstr\u001b[39m) \u001b[38;5;241m-\u001b[39m\u001b[38;5;241m>\u001b[39m Tuple[\u001b[38;5;28mint\u001b[39m, \u001b[38;5;28mint\u001b[39m, \u001b[38;5;28mint\u001b[39m]:\n",
      "\u001b[0;31mXGBoostError\u001b[0m: \nXGBoost Library (libxgboost.dylib) could not be loaded.\nLikely causes:\n  * OpenMP runtime is not installed\n    - vcomp140.dll or libgomp-1.dll for Windows\n    - libomp.dylib for Mac OSX\n    - libgomp.so for Linux and other UNIX-like OSes\n    Mac OSX users: Run `brew install libomp` to install OpenMP runtime.\n\n  * You are running 32-bit Python on a 64-bit OS\n\nError message(s): [\"dlopen(/Library/Frameworks/Python.framework/Versions/3.10/lib/python3.10/site-packages/xgboost/lib/libxgboost.dylib, 0x0006): Library not loaded: @rpath/libomp.dylib\\n  Referenced from: <F2F42313-BF4F-3B95-A853-AE1DE94D4C87> /Library/Frameworks/Python.framework/Versions/3.10/lib/python3.10/site-packages/xgboost/lib/libxgboost.dylib\\n  Reason: tried: '/opt/homebrew/opt/libomp/lib/libomp.dylib' (no such file), '/System/Volumes/Preboot/Cryptexes/OS/opt/homebrew/opt/libomp/lib/libomp.dylib' (no such file), '/opt/homebrew/opt/libomp/lib/libomp.dylib' (no such file), '/System/Volumes/Preboot/Cryptexes/OS/opt/homebrew/opt/libomp/lib/libomp.dylib' (no such file), '/System/Volumes/Preboot/Cryptexes/OS@rpath/libomp.dylib' (no such file), '/opt/homebrew/opt/libomp/lib/libomp.dylib' (no such file), '/System/Volumes/Preboot/Cryptexes/OS/opt/homebrew/opt/libomp/lib/libomp.dylib' (no such file), '/opt/homebrew/opt/libomp/lib/libomp.dylib' (no such file), '/System/Volumes/Preboot/Cryptexes/OS/opt/homebrew/opt/libomp/lib/libomp.dylib' (no such file)\"]\n"
     ]
    }
   ],
   "source": [
    "# Importing data\n",
    "\n",
    "import pandas as pd\n",
    "import numpy as np\n",
    "import matplotlib.pyplot as plt\n",
    "\n",
    "import seaborn as sns\n",
    "\n",
    "from sklearn.model_selection import train_test_split\n",
    "from sklearn.ensemble import RandomForestClassifier\n",
    "from sklearn.linear_model import LogisticRegression\n",
    "from sklearn.metrics import classification_report, confusion_matrix\n",
    "from sklearn.preprocessing import OneHotEncoder\n",
    "from sklearn.model_selection import cross_val_score\n",
    "import xgboost as xgb\n",
    "\n",
    "from tensorflow.keras.models import Sequential\n",
    "from tensorflow.keras.layers import Dense, Dropout\n",
    "from tensorflow.keras.optimizers import Adam\n",
    "from tensorflow.keras.callbacks import EarlyStopping"
   ]
  },
  {
   "cell_type": "code",
   "execution_count": 2,
   "metadata": {},
   "outputs": [],
   "source": [
    "# Loading three CSV files into pandas DataFrames\n",
    "injury_data = pd.read_csv('InjuryRecord.csv')\n",
    "play_data = pd.read_csv('PlayList.csv')\n",
    "track_data = pd.read_csv('PlayerTrackData.csv')"
   ]
  },
  {
   "cell_type": "code",
   "execution_count": 19,
   "metadata": {},
   "outputs": [],
   "source": [
    "# Merging Datasets: \n",
    "combined_data = pd.merge(play_data, track_data, on=['PlayKey'], how='inner')\n",
    "# Adding a new column indicating weather or not an injury occured\n",
    "combined_data['InjuryOccurred'] = combined_data['PlayKey'].isin(injury_data['PlayKey']).astype(int)\n",
    "\n",
    "# Step 1: Split the data based on injury occurrence\n",
    "injury_occurred = combined_data[combined_data['InjuryOccurred'] == 1]\n",
    "no_injury_occurred = combined_data[combined_data['InjuryOccurred'] == 0]\n",
    "\n",
    "# Step 2: Sample data\n",
    "# Take 105 rows where injury occurred\n",
    "injury_sample = injury_occurred.sample(n=105, random_state=42)\n",
    "# Take 105 rows where no injury occurred\n",
    "no_injury_sample = no_injury_occurred.sample(n=105, random_state=42)\n",
    "\n",
    "# Step 3: Combine the samples\n",
    "final_sample = pd.concat([injury_sample, no_injury_sample])\n",
    "\n",
    "# Step 4: Shuffle the final dataset to randomize the order\n",
    "random_sampled_data = final_sample.sample(frac=1, random_state=42).reset_index(drop=True)"
   ]
  },
  {
   "cell_type": "code",
   "execution_count": 20,
   "metadata": {},
   "outputs": [
    {
     "name": "stderr",
     "output_type": "stream",
     "text": [
      "/var/folders/1v/rphybfn151d42hnnhv4s72jm0000gn/T/ipykernel_72280/2704975574.py:115: FutureWarning: Downcasting behavior in `replace` is deprecated and will be removed in a future version. To retain the old behavior, explicitly call `result.infer_objects(copy=False)`. To opt-in to the future behavior, set `pd.set_option('future.no_silent_downcasting', True)`\n",
      "  random_sampled_data[column] = random_sampled_data[column].replace({True: 1, False: 0})\n"
     ]
    }
   ],
   "source": [
    "# Data Cleanup\n",
    "\n",
    "# One-hot encoding for Weather data\n",
    "weather_encoded = pd.get_dummies(random_sampled_data['Weather'], prefix='Weather')\n",
    "# Combine the encoded columns with the original DataFrame\n",
    "random_sampled_data = pd.concat([random_sampled_data, weather_encoded], axis=1)\n",
    "# Drop the original 'Weather' column if no longer needed\n",
    "random_sampled_data.drop(columns=['Weather'], inplace=True)\n",
    "\n",
    "# Group definitions for weather categories\n",
    "weather_groups = {\n",
    "    'Sunny_Weather': [\n",
    "        'Weather_Sunny', 'Weather_Sunny Skies', 'Weather_Sunny and clear',\n",
    "        'Weather_Sunny and cold', 'Weather_Sunny and warm', 'Weather_Mostly sunny', \n",
    "        'Weather_Partly Sunny', 'Weather_Partly sunny', \n",
    "        'Weather_Sunny, Windy', 'Weather_Sunny, highs to upper 80s',  'Weather_Mostly Sunny', 'Weather_Mostly Sunny Skies'\n",
    "    ],\n",
    "    'Clear_Weather': [\n",
    "        'Weather_Clear',\n",
    "        'Weather_Clear Skies', 'Weather_Clear and Cool',\n",
    "        'Weather_Clear and Sunny', 'Weather_Clear and cold',\n",
    "        'Weather_Clear and sunny', 'Weather_Clear and warm',\n",
    "        'Weather_Clear skies', 'Weather_Clear to Partly Cloudy', 'Weather_Partly clear'\n",
    "    ],\n",
    "    'Cloudy_Weather': [\n",
    "        'Weather_Cloudy', 'Weather_Cloudy and Cool', 'Weather_Cloudy and cold',\n",
    "        'Weather_Cloudy with periods of rain, thunder possible. Winds shifting to WNW, 10-20 mph.',\n",
    "        'Weather_Cloudy, 50% change of rain', 'Weather_Cloudy, Rain',\n",
    "        'Weather_Cloudy, chance of rain', 'Weather_cloudy', 'Weather_Overcast', \n",
    "        'Weather_Cloudy, fog started developing in 2nd quarter',\n",
    "        'Weather_Cloudy, light snow accumulating 1-3\"', 'Weather_Coudy',\n",
    "        'Weather_Mostly Cloudy', 'Weather_Mostly Coudy', 'Weather_Mostly cloudy'\n",
    "    ],\n",
    "    'Low_Rain_Weather': [\n",
    "        'Weather_10% Chance of Rain', 'Weather_30% Chance of Rain', 'Weather_Light Rain'\n",
    "    ],\n",
    "    'Rainy_Weather': [\n",
    "        'Weather_Rain', 'Weather_Rain Chance 40%', 'Weather_Rain likely, temps in low 40s.',\n",
    "        'Weather_Rain shower', 'Weather_Rainy', 'Weather_Scattered Showers',\n",
    "        'Weather_Showers'\n",
    "    ],\n",
    "    'Indoor_Weather': [\n",
    "        'Weather_Indoor', 'Weather_Indoors', 'Weather_Controlled Climate',\n",
    "        'Weather_N/A (Indoors)', 'Weather_N/A Indoor'\n",
    "    ],\n",
    "    'Partly_Cloudy_Weather': [\n",
    "        'Weather_Partly Cloudy', 'Weather_Partly Clouidy', 'Weather_Partly cloudy',\n",
    "        'Weather_Party Cloudy', 'Weather_Sun & clouds'\n",
    "    ],\n",
    "    'Snowy_Weather': [\n",
    "        'Weather_Snow', 'Weather_Heavy lake effect snow'\n",
    "    ],\n",
    "    'Other_Weather': [\n",
    "        'Weather_Fair', 'Weather_Hazy', 'Weather_Heat Index 95'\n",
    "    ]\n",
    "}\n",
    "\n",
    "for group_name, columns in weather_groups.items():\n",
    "    # Check if the columns exist in the DataFrame\n",
    "    columns_present = [col for col in columns if col in random_sampled_data.columns]\n",
    "    # Combine the columns\n",
    "    random_sampled_data[group_name] = random_sampled_data[columns_present].max(axis=1)\n",
    "    # Optionally drop the old columns\n",
    "    random_sampled_data.drop(columns=columns_present, inplace=True)\n",
    "\n",
    "field_type_encoded = pd.get_dummies(random_sampled_data['FieldType'], prefix='FieldType')\n",
    "# Combine the encoded columns with the original DataFrame\n",
    "random_sampled_data = pd.concat([random_sampled_data, field_type_encoded], axis=1)\n",
    "# Drop the original 'FieldType' column if no longer needed\n",
    "random_sampled_data.drop(columns=['FieldType'], inplace=True)\n",
    "\n",
    "stadium_type_encoded = pd.get_dummies(random_sampled_data['StadiumType'], prefix='StadiumType')\n",
    "# Combine the encoded columns with the original DataFrame\n",
    "random_sampled_data = pd.concat([random_sampled_data, stadium_type_encoded], axis=1)\n",
    "# Drop the original 'FieldType' column if no longer needed\n",
    "random_sampled_data.drop(columns=['StadiumType'], inplace=True)\n",
    "\n",
    "stadium_type_groups = {\n",
    "    'Indoor_Stadium': [\n",
    "        'StadiumType_Closed Dome', 'StadiumType_Dome', 'StadiumType_Dome, closed',\n",
    "        'StadiumType_Domed', 'StadiumType_Indoor', 'StadiumType_Indoor, Open Roof',\n",
    "        'StadiumType_Indoor, Roof Closed', 'StadiumType_Indoors'\n",
    "    ],\n",
    "    'Outdoor_Stadium': [\n",
    "        'StadiumType_Bowl', 'StadiumType_Cloudy', 'StadiumType_Heinz Field',\n",
    "        'StadiumType_Open', 'StadiumType_Oudoor', 'StadiumType_Ourdoor',\n",
    "        'StadiumType_Outddors', 'StadiumType_Outdoor', 'StadiumType_Outdoors',\n",
    "        'StadiumType_Outdor', 'StadiumType_Outside'\n",
    "    ],\n",
    "    'Retractable_Roof_Stadium': [\n",
    "        'StadiumType_Domed, Open', 'StadiumType_Domed, open',\n",
    "        'StadiumType_Outdoor Retr Roof-Open', 'StadiumType_Retr. Roof - Closed',\n",
    "        'StadiumType_Retr. Roof - Open', 'StadiumType_Retr. Roof Closed', 'StadiumType_Domed, closed',\n",
    "        'StadiumType_Retr. Roof-Closed', 'StadiumType_Retractable Roof', 'StadiumType_Retr. Roof-Open'\n",
    "    ]\n",
    "}\n",
    "# Iterate through stadium type groups and combine columns\n",
    "for group_name, columns in stadium_type_groups.items():\n",
    "    # Check if the columns exist in the DataFrame\n",
    "    columns_present = [col for col in columns if col in random_sampled_data.columns]\n",
    "    # Combine the columns\n",
    "    random_sampled_data[group_name] = random_sampled_data[columns_present].max(axis=1)\n",
    "    # Optionally drop the old columns\n",
    "    random_sampled_data.drop(columns=columns_present, inplace=True)\n",
    "\n",
    "columns_of_interest  = [\n",
    "    'Sunny_Weather', 'Clear_Weather', 'Cloudy_Weather', 'Low_Rain_Weather', \n",
    "    'Rainy_Weather', 'Indoor_Weather', 'Partly_Cloudy_Weather', 'Snowy_Weather', \n",
    "    'Other_Weather', 'FieldType_Natural', 'FieldType_Synthetic', 'Indoor_Stadium', \n",
    "    'Outdoor_Stadium', 'Retractable_Roof_Stadium'\n",
    "]\n",
    "\n",
    "# Apply the replacement for each column\n",
    "for column in columns_of_interest:\n",
    "    random_sampled_data[column] = random_sampled_data[column].replace({True: 1, False: 0})\n",
    "\n",
    "X = random_sampled_data[['Sunny_Weather', 'Clear_Weather',\n",
    "       'Cloudy_Weather', 'Low_Rain_Weather', 'Rainy_Weather', 'Indoor_Weather',\n",
    "       'Partly_Cloudy_Weather', 'Snowy_Weather', 'Other_Weather',\n",
    "       'FieldType_Natural', 'FieldType_Synthetic', 'Indoor_Stadium',\n",
    "       'Outdoor_Stadium', 'Retractable_Roof_Stadium', 'Temperature']].fillna(0)\n",
    "y = random_sampled_data['InjuryOccurred'].fillna(0)"
   ]
  },
  {
   "cell_type": "code",
   "execution_count": 21,
   "metadata": {},
   "outputs": [],
   "source": [
    "# Populating Training and Testing data\n",
    "\n",
    "X_train, X_test, y_train, y_test = train_test_split(X, y, test_size=0.1, random_state=42)"
   ]
  },
  {
   "cell_type": "code",
   "execution_count": 22,
   "metadata": {},
   "outputs": [
    {
     "name": "stdout",
     "output_type": "stream",
     "text": [
      "For Random Forest Classifier               precision    recall  f1-score   support\n",
      "\n",
      "           0       0.86      0.86      0.86         7\n",
      "           1       0.93      0.93      0.93        14\n",
      "\n",
      "    accuracy                           0.90        21\n",
      "   macro avg       0.89      0.89      0.89        21\n",
      "weighted avg       0.90      0.90      0.90        21\n",
      "\n"
     ]
    },
    {
     "data": {
      "image/png": "[encoded data removed]",
      "text/plain": [
       "<Figure size 800x600 with 2 Axes>"
      ]
     },
     "metadata": {},
     "output_type": "display_data"
    }
   ],
   "source": [
    "# Creating model for Random Forest\n",
    "\n",
    "model = RandomForestClassifier()\n",
    "model.fit(X_train, y_train)\n",
    "predictions = model.predict(X_test)\n",
    "print(\"For Random Forest Classifier\",classification_report(y_test, predictions))\n",
    "\n",
    "cm = confusion_matrix(y_test, predictions)\n",
    "\n",
    "# Plotting\n",
    "plt.figure(figsize=(8, 6))\n",
    "sns.heatmap(cm, annot=True, fmt='d', cmap='Blues', xticklabels=model.classes_, yticklabels=model.classes_)\n",
    "plt.title(\"Confusion Matrix\")\n",
    "plt.xlabel(\"Predicted Label\")\n",
    "plt.ylabel(\"True Label\")\n",
    "plt.show()"
   ]
  },
  {
   "cell_type": "code",
   "execution_count": 24,
   "metadata": {},
   "outputs": [
    {
     "name": "stdout",
     "output_type": "stream",
     "text": [
      "              precision    recall  f1-score   support\n",
      "\n",
      "           0       0.50      0.71      0.59         7\n",
      "           1       0.82      0.64      0.72        14\n",
      "\n",
      "    accuracy                           0.67        21\n",
      "   macro avg       0.66      0.68      0.65        21\n",
      "weighted avg       0.71      0.67      0.68        21\n",
      "\n"
     ]
    },
    {
     "data": {
      "image/png": "[encoded data removed]",
      "text/plain": [
       "<Figure size 800x600 with 2 Axes>"
      ]
     },
     "metadata": {},
     "output_type": "display_data"
    }
   ],
   "source": [
    "model = LogisticRegression(max_iter=10000)\n",
    "model.fit(X_train, y_train)\n",
    "predictions = model.predict(X_test)\n",
    "print(classification_report(y_test, predictions))\n",
    "\n",
    "cm = confusion_matrix(y_test, predictions)\n",
    "\n",
    "# Plotting\n",
    "plt.figure(figsize=(8, 6))\n",
    "sns.heatmap(cm, annot=True, fmt='d', cmap='Blues', xticklabels=model.classes_, yticklabels=model.classes_)\n",
    "plt.title(\"Confusion Matrix\")\n",
    "plt.xlabel(\"Predicted Label\")\n",
    "plt.ylabel(\"True Label\")\n",
    "plt.show()"
   ]
  },
  {
   "cell_type": "code",
   "execution_count": 33,
   "metadata": {},
   "outputs": [
    {
     "name": "stdout",
     "output_type": "stream",
     "text": [
      "              precision    recall  f1-score   support\n",
      "\n",
      "           0       0.33      1.00      0.50         7\n",
      "           1       0.00      0.00      0.00        14\n",
      "\n",
      "    accuracy                           0.33        21\n",
      "   macro avg       0.17      0.50      0.25        21\n",
      "weighted avg       0.11      0.33      0.17        21\n",
      "\n"
     ]
    },
    {
     "name": "stderr",
     "output_type": "stream",
     "text": [
      "/Library/Frameworks/Python.framework/Versions/3.10/lib/python3.10/site-packages/sklearn/metrics/_classification.py:1531: UndefinedMetricWarning: Precision is ill-defined and being set to 0.0 in labels with no predicted samples. Use `zero_division` parameter to control this behavior.\n",
      "  _warn_prf(average, modifier, f\"{metric.capitalize()} is\", len(result))\n",
      "/Library/Frameworks/Python.framework/Versions/3.10/lib/python3.10/site-packages/sklearn/metrics/_classification.py:1531: UndefinedMetricWarning: Precision is ill-defined and being set to 0.0 in labels with no predicted samples. Use `zero_division` parameter to control this behavior.\n",
      "  _warn_prf(average, modifier, f\"{metric.capitalize()} is\", len(result))\n",
      "/Library/Frameworks/Python.framework/Versions/3.10/lib/python3.10/site-packages/sklearn/metrics/_classification.py:1531: UndefinedMetricWarning: Precision is ill-defined and being set to 0.0 in labels with no predicted samples. Use `zero_division` parameter to control this behavior.\n",
      "  _warn_prf(average, modifier, f\"{metric.capitalize()} is\", len(result))\n"
     ]
    },
    {
     "data": {
      "image/png": "[encoded data removed]",
      "text/plain": [
       "<Figure size 800x600 with 2 Axes>"
      ]
     },
     "metadata": {},
     "output_type": "display_data"
    }
   ],
   "source": [
    "from sklearn.svm import SVC\n",
    "svm_model = SVC(kernel='rbf', random_state=42)  # Radial basis function kernel is commonly used for non-linear classification\n",
    "svm_model.fit(X_train, y_train)\n",
    "predictions = svm_model.predict(X_test)\n",
    "\n",
    "print(classification_report(y_test, predictions))\n",
    "\n",
    "cm = confusion_matrix(y_test, predictions)\n",
    "\n",
    "# Plotting\n",
    "plt.figure(figsize=(8, 6))\n",
    "sns.heatmap(cm, annot=True, fmt='d', cmap='Blues', xticklabels=model.classes_, yticklabels=model.classes_)\n",
    "plt.title(\"Confusion Matrix\")\n",
    "plt.xlabel(\"Predicted Label\")\n",
    "plt.ylabel(\"True Label\")\n",
    "plt.show()"
   ]
  },
  {
   "cell_type": "code",
   "execution_count": 152,
   "metadata": {},
   "outputs": [
    {
     "name": "stdout",
     "output_type": "stream",
     "text": [
      "Epoch 1/30\n",
      "\u001b[1m3/3\u001b[0m \u001b[32m━━━━━━━━━━━━━━━━━━━━\u001b[0m\u001b[37m\u001b[0m \u001b[1m1s\u001b[0m 53ms/step - accuracy: 0.4714 - loss: 4.0964 - val_accuracy: 0.4706 - val_loss: 0.7466\n",
      "Epoch 2/30\n",
      "\u001b[1m3/3\u001b[0m \u001b[32m━━━━━━━━━━━━━━━━━━━━\u001b[0m\u001b[37m\u001b[0m \u001b[1m0s\u001b[0m 8ms/step - accuracy: 0.5096 - loss: 1.1425 - val_accuracy: 0.3824 - val_loss: 0.9669\n",
      "Epoch 3/30\n",
      "\u001b[1m3/3\u001b[0m \u001b[32m━━━━━━━━━━━━━━━━━━━━\u001b[0m\u001b[37m\u001b[0m \u001b[1m0s\u001b[0m 7ms/step - accuracy: 0.5549 - loss: 3.8115 - val_accuracy: 0.3824 - val_loss: 0.9208\n",
      "Epoch 4/30\n",
      "\u001b[1m3/3\u001b[0m \u001b[32m━━━━━━━━━━━━━━━━━━━━\u001b[0m\u001b[37m\u001b[0m \u001b[1m0s\u001b[0m 8ms/step - accuracy: 0.5229 - loss: 1.9218 - val_accuracy: 0.3824 - val_loss: 0.8006\n",
      "Epoch 5/30\n",
      "\u001b[1m3/3\u001b[0m \u001b[32m━━━━━━━━━━━━━━━━━━━━\u001b[0m\u001b[37m\u001b[0m \u001b[1m0s\u001b[0m 7ms/step - accuracy: 0.5341 - loss: 1.8335 - val_accuracy: 0.5882 - val_loss: 0.7474\n",
      "Epoch 6/30\n",
      "\u001b[1m3/3\u001b[0m \u001b[32m━━━━━━━━━━━━━━━━━━━━\u001b[0m\u001b[37m\u001b[0m \u001b[1m0s\u001b[0m 9ms/step - accuracy: 0.4943 - loss: 0.9800 - val_accuracy: 0.5588 - val_loss: 0.6964\n",
      "Epoch 7/30\n",
      "\u001b[1m3/3\u001b[0m \u001b[32m━━━━━━━━━━━━━━━━━━━━\u001b[0m\u001b[37m\u001b[0m \u001b[1m0s\u001b[0m 9ms/step - accuracy: 0.5169 - loss: 2.1080 - val_accuracy: 0.3824 - val_loss: 0.6945\n",
      "Epoch 8/30\n",
      "\u001b[1m3/3\u001b[0m \u001b[32m━━━━━━━━━━━━━━━━━━━━\u001b[0m\u001b[37m\u001b[0m \u001b[1m0s\u001b[0m 8ms/step - accuracy: 0.4730 - loss: 1.3547 - val_accuracy: 0.4118 - val_loss: 0.6946\n",
      "Epoch 9/30\n",
      "\u001b[1m3/3\u001b[0m \u001b[32m━━━━━━━━━━━━━━━━━━━━\u001b[0m\u001b[37m\u001b[0m \u001b[1m0s\u001b[0m 8ms/step - accuracy: 0.5480 - loss: 1.3758 - val_accuracy: 0.3529 - val_loss: 0.7091\n",
      "Epoch 10/30\n",
      "\u001b[1m3/3\u001b[0m \u001b[32m━━━━━━━━━━━━━━━━━━━━\u001b[0m\u001b[37m\u001b[0m \u001b[1m0s\u001b[0m 8ms/step - accuracy: 0.4982 - loss: 1.4920 - val_accuracy: 0.3824 - val_loss: 0.7338\n",
      "Epoch 11/30\n",
      "\u001b[1m3/3\u001b[0m \u001b[32m━━━━━━━━━━━━━━━━━━━━\u001b[0m\u001b[37m\u001b[0m \u001b[1m0s\u001b[0m 8ms/step - accuracy: 0.4561 - loss: 1.5590 - val_accuracy: 0.3824 - val_loss: 0.7451\n",
      "Epoch 12/30\n",
      "\u001b[1m3/3\u001b[0m \u001b[32m━━━━━━━━━━━━━━━━━━━━\u001b[0m\u001b[37m\u001b[0m \u001b[1m0s\u001b[0m 8ms/step - accuracy: 0.5059 - loss: 1.3460 - val_accuracy: 0.3824 - val_loss: 0.7492\n",
      "\u001b[1m2/2\u001b[0m \u001b[32m━━━━━━━━━━━━━━━━━━━━\u001b[0m\u001b[37m\u001b[0m \u001b[1m0s\u001b[0m 3ms/step - accuracy: 0.5685 - loss: 0.6928\n",
      "Test Accuracy: 0.57\n",
      "Test loss: 0.69\n"
     ]
    }
   ],
   "source": [
    "from tensorflow.keras.layers import Dense, Dropout, Input\n",
    "\n",
    "def build_model(num_layers=5, neurons=64, dropout_rate=0.2, learning_rate=0.001):\n",
    "    model = Sequential()\n",
    "    # Use Input layer instead of input_dim in the Dense layer\n",
    "    model.add(Input(shape=(X_train.shape[1],)))  # Define input shape here\n",
    "    model.add(Dense(neurons, activation='relu'))  # First Dense layer after input\n",
    "    \n",
    "    # Add hidden layers\n",
    "    for _ in range(num_layers):\n",
    "        model.add(Dense(neurons, activation='relu'))\n",
    "        model.add(Dropout(dropout_rate))\n",
    "        \n",
    "    # Output layer\n",
    "    model.add(Dense(1, activation='sigmoid'))  # Output layer for binary classification\n",
    "    \n",
    "    # Compile the model\n",
    "    model.compile(optimizer=Adam(learning_rate=learning_rate), loss='binary_crossentropy', metrics=['accuracy'])\n",
    "    return model\n",
    "\n",
    "# Hyperparameter tuning\n",
    "num_layers = 9\n",
    "neurons = 128\n",
    "dropout_rate = 0.4\n",
    "learning_rate = 0.001\n",
    "batch_size = 64\n",
    "# Build and train the model\n",
    "model = build_model(num_layers=num_layers, neurons=neurons, dropout_rate=dropout_rate, learning_rate=learning_rate)\n",
    "early_stopping = EarlyStopping(monitor='val_loss', patience=5, restore_best_weights=True)\n",
    "\n",
    "history = model.fit(X_train, y_train, validation_split=0.2, epochs=30, batch_size=batch_size, callbacks=[early_stopping])\n",
    "\n",
    "# Evaluate the model\n",
    "test_loss, test_accuracy = model.evaluate(X_test, y_test)\n",
    "\n",
    "print(f\"Test Accuracy: {test_accuracy:.2f}\")\n",
    "print(f\"Test loss: {test_loss:.2f}\")\n",
    "\n",
    "\n",
    "# Print the accuracy scores for each fold and the average "
   ]
  },
  {
   "cell_type": "code",
   "execution_count": 148,
   "metadata": {},
   "outputs": [
    {
     "name": "stdout",
     "output_type": "stream",
     "text": [
      "Evaluating model with params: num_layers=9, neurons=128, dropout_rate=0.2, learning_rate=0.001, batch_size=32\n",
      "Test Accuracy: 0.52, Test Loss: 0.69\n",
      "Evaluating model with params: num_layers=9, neurons=128, dropout_rate=0.4, learning_rate=0.001, batch_size=64\n",
      "Test Accuracy: 0.57, Test Loss: 0.68\n",
      "\n",
      "Best Model Parameters:\n",
      "Test Accuracy: 0.57\n",
      "Test Loss: 0.68\n",
      "Best Hyperparameters: {'num_layers': 9, 'neurons': 128, 'dropout_rate': 0.4, 'learning_rate': 0.001, 'batch_size': 64}\n"
     ]
    }
   ],
   "source": [
    "param_grid = {\n",
    "    'num_layers': [3, 5, 7, 9],\n",
    "    'neurons': [64, 128],\n",
    "    'dropout_rate': [0.2, 0.3, 0.4],\n",
    "    'learning_rate': [0.001],\n",
    "    'batch_size': [32, 64, 72, 128]\n",
    "}\n",
    "\n",
    "# Early stopping to avoid overfitting\n",
    "early_stopping = EarlyStopping(monitor='val_loss', patience=5, restore_best_weights=True)\n",
    "\n",
    "# Initialize best metrics\n",
    "best_accuracy = 0\n",
    "best_loss = 2\n",
    "best_params = {}\n",
    "best_score = 0\n",
    "\n",
    "# Split the data into train and test\n",
    "X_train, X_test, y_train, y_test = train_test_split(X, y, test_size=0.2, random_state=42)\n",
    "\n",
    "# Iterate over all combinations of hyperparameters\n",
    "for num_layers in param_grid['num_layers']:\n",
    "    for neurons in param_grid['neurons']:\n",
    "        for dropout_rate in param_grid['dropout_rate']:\n",
    "            for learning_rate in param_grid['learning_rate']:\n",
    "                for batch_size in param_grid['batch_size']:\n",
    "                    # Build and train the model\n",
    "                    model = build_model(num_layers=num_layers, neurons=neurons, dropout_rate=dropout_rate, learning_rate=learning_rate)\n",
    "                    \n",
    "                    # Train the model with the current hyperparameters\n",
    "                    history = model.fit(X_train, y_train, validation_split=0.2, epochs=30, batch_size=batch_size, callbacks=[early_stopping], verbose=0)\n",
    "                    \n",
    "                    # Evaluate the model\n",
    "                    test_loss, test_accuracy = model.evaluate(X_test, y_test, verbose=0)\n",
    "                    if test_loss < 0.7 and test_accuracy> 0.5:\n",
    "                        print(f\"Evaluating model with params: num_layers={num_layers}, neurons={neurons}, \"\n",
    "                            f\"dropout_rate={dropout_rate}, learning_rate={learning_rate}, batch_size={batch_size}\")\n",
    "                        print(f\"Test Accuracy: {test_accuracy:.2f}, Test Loss: {test_loss:.2f}\")\n",
    "                    \n",
    "                    score = test_accuracy - (test_loss * 0.5)  # You can adjust the weight factor\n",
    "                    # Update the best parameters based on the score\n",
    "                    if score > best_score:\n",
    "                        best_score = score\n",
    "                        best_accuracy = test_accuracy\n",
    "                        best_loss = test_loss\n",
    "                        best_params = {\n",
    "                            'num_layers': num_layers,\n",
    "                            'neurons': neurons,\n",
    "                            'dropout_rate': dropout_rate,\n",
    "                            'learning_rate': learning_rate,\n",
    "                            'batch_size': batch_size\n",
    "                        }\n",
    "\n",
    "# Output the best combination of hyperparameters\n",
    "print(\"\\nBest Model Parameters:\")\n",
    "print(f\"Test Accuracy: {best_accuracy:.2f}\")\n",
    "print(f\"Test Loss: {best_loss:.2f}\")\n",
    "print(f\"Best Hyperparameters: {best_params}\")"
   ]
  }
 ],
 "metadata": {
  "kernelspec": {
   "display_name": "Python 3",
   "language": "python",
   "name": "python3"
  },
  "language_info": {
   "codemirror_mode": {
    "name": "ipython",
    "version": 3
   },
   "file_extension": ".py",
   "mimetype": "text/x-python",
   "name": "python",
   "nbconvert_exporter": "python",
   "pygments_lexer": "ipython3",
   "version": "3.10.7"
  }
 },
 "nbformat": 4,
 "nbformat_minor": 2
}
